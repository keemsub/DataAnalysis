{
  "nbformat": 4,
  "nbformat_minor": 0,
  "metadata": {
    "colab": {
      "provenance": []
    },
    "kernelspec": {
      "name": "python3",
      "display_name": "Python 3"
    },
    "language_info": {
      "name": "python"
    },
    "accelerator": "GPU",
    "gpuClass": "standard"
  },
  "cells": [
    {
      "cell_type": "code",
      "execution_count": null,
      "metadata": {
        "colab": {
          "base_uri": "https://localhost:8080/"
        },
        "id": "WyGf7jQQhqXA",
        "outputId": "3653da79-239d-4950-b723-d11ee6570150"
      },
      "outputs": [
        {
          "output_type": "stream",
          "name": "stdout",
          "text": [
            "Mounted at /content/drive\n"
          ]
        }
      ],
      "source": [
        "import pandas as pd\n",
        "import numpy as np\n",
        "from google.colab import drive\n",
        "drive.mount('/content/drive')\n",
        "Jan_2019 = '/content/drive/MyDrive/Flight Delay prediction/Jan_2019_ontime.csv'\n",
        "Jan_2020 = '/content/drive/MyDrive/Flight Delay prediction/Jan_2020_ontime.csv'"
      ]
    },
    {
      "cell_type": "code",
      "source": [
        "#data load\n",
        "df1 = pd.read_csv(Jan_2019)\n",
        "df2 = pd.read_csv(Jan_2020)"
      ],
      "metadata": {
        "id": "B4KhDhOwhtSv"
      },
      "execution_count": null,
      "outputs": []
    },
    {
      "cell_type": "code",
      "source": [
        "df = pd.concat([df1,df2])"
      ],
      "metadata": {
        "id": "drnbus-KhtQ2"
      },
      "execution_count": null,
      "outputs": []
    },
    {
      "cell_type": "code",
      "source": [
        "df.isna().sum()"
      ],
      "metadata": {
        "colab": {
          "base_uri": "https://localhost:8080/"
        },
        "id": "05WH_lnMhtPF",
        "outputId": "14087cb4-b312-4296-d42f-0abad03706ea"
      },
      "execution_count": null,
      "outputs": [
        {
          "output_type": "execute_result",
          "data": {
            "text/plain": [
              "DAY_OF_MONTH                   0\n",
              "DAY_OF_WEEK                    0\n",
              "OP_UNIQUE_CARRIER              0\n",
              "OP_CARRIER_AIRLINE_ID          0\n",
              "OP_CARRIER                     0\n",
              "TAIL_NUM                    3241\n",
              "OP_CARRIER_FL_NUM              0\n",
              "ORIGIN_AIRPORT_ID              0\n",
              "ORIGIN_AIRPORT_SEQ_ID          0\n",
              "ORIGIN                         0\n",
              "DEST_AIRPORT_ID                0\n",
              "DEST_AIRPORT_SEQ_ID            0\n",
              "DEST                           0\n",
              "DEP_TIME                   23016\n",
              "DEP_DEL15                  23054\n",
              "DEP_TIME_BLK                   0\n",
              "ARR_TIME                   24136\n",
              "ARR_DEL15                  26100\n",
              "CANCELLED                      0\n",
              "DIVERTED                       0\n",
              "DISTANCE                       0\n",
              "Unnamed: 21              1191331\n",
              "dtype: int64"
            ]
          },
          "metadata": {},
          "execution_count": 4
        }
      ]
    },
    {
      "cell_type": "code",
      "source": [
        "df.drop(['Unnamed: 21'], axis=1, inplace = True)"
      ],
      "metadata": {
        "id": "h-TkHBhLhtNM"
      },
      "execution_count": null,
      "outputs": []
    },
    {
      "cell_type": "code",
      "source": [
        "df.dropna(inplace=True)"
      ],
      "metadata": {
        "id": "nTIY8cS0htLf"
      },
      "execution_count": null,
      "outputs": []
    },
    {
      "cell_type": "code",
      "source": [
        "df.isna().any()"
      ],
      "metadata": {
        "colab": {
          "base_uri": "https://localhost:8080/"
        },
        "id": "Cddrm0zDhtJO",
        "outputId": "2923a809-ba6f-4a0f-aa49-0537561d159b"
      },
      "execution_count": null,
      "outputs": [
        {
          "output_type": "execute_result",
          "data": {
            "text/plain": [
              "DAY_OF_MONTH             False\n",
              "DAY_OF_WEEK              False\n",
              "OP_UNIQUE_CARRIER        False\n",
              "OP_CARRIER_AIRLINE_ID    False\n",
              "OP_CARRIER               False\n",
              "TAIL_NUM                 False\n",
              "OP_CARRIER_FL_NUM        False\n",
              "ORIGIN_AIRPORT_ID        False\n",
              "ORIGIN_AIRPORT_SEQ_ID    False\n",
              "ORIGIN                   False\n",
              "DEST_AIRPORT_ID          False\n",
              "DEST_AIRPORT_SEQ_ID      False\n",
              "DEST                     False\n",
              "DEP_TIME                 False\n",
              "DEP_DEL15                False\n",
              "DEP_TIME_BLK             False\n",
              "ARR_TIME                 False\n",
              "ARR_DEL15                False\n",
              "CANCELLED                False\n",
              "DIVERTED                 False\n",
              "DISTANCE                 False\n",
              "dtype: bool"
            ]
          },
          "metadata": {},
          "execution_count": 7
        }
      ]
    },
    {
      "cell_type": "code",
      "source": [
        "tms_list = list(pd.unique(df['DEP_TIME_BLK']))\n",
        "df['DEP_TIME_BLK'] = df['DEP_TIME_BLK'].apply(lambda x : tms_list.index(x) + 1)"
      ],
      "metadata": {
        "id": "cJZ5CR_QhtHk"
      },
      "execution_count": null,
      "outputs": []
    },
    {
      "cell_type": "code",
      "source": [
        "import seaborn as sns\n",
        "sns.countplot(x = 'ARR_DEL15', data=df)\n",
        "#약 5:1(0:1의 비율)"
      ],
      "metadata": {
        "colab": {
          "base_uri": "https://localhost:8080/",
          "height": 309
        },
        "id": "coJ0r8ILiH78",
        "outputId": "0a697c76-dde8-40c4-8eb3-44cd1552da51"
      },
      "execution_count": null,
      "outputs": [
        {
          "output_type": "execute_result",
          "data": {
            "text/plain": [
              "<matplotlib.axes._subplots.AxesSubplot at 0x7f0e0d1ca850>"
            ]
          },
          "metadata": {},
          "execution_count": 9
        },
        {
          "output_type": "display_data",
          "data": {
            "text/plain": [
              "<Figure size 432x288 with 1 Axes>"
            ],
            "image/png": "[encoded data removed]"
          },
          "metadata": {
            "needs_background": "light"
          }
        }
      ]
    },
    {
      "cell_type": "code",
      "source": [
        "import torch\n",
        "import torch.nn as nn\n",
        "import torch.optim as optim\n",
        "from torch.utils.data import Dataset, DataLoader\n",
        "\n",
        "from sklearn.preprocessing import StandardScaler\n",
        "from sklearn.model_selection import train_test_split\n",
        "from sklearn.metrics import confusion_matrix, classification_report"
      ],
      "metadata": {
        "id": "65Koqxxuh3KJ"
      },
      "execution_count": null,
      "outputs": []
    },
    {
      "cell_type": "code",
      "source": [
        "# df['ARR_DEL15'] = df['ARR_DEL15'].astype('category')\n",
        "# encode_map = {\n",
        "#     'Delay': 1,\n",
        "#     'Not Delay': 0\n",
        "# }\n",
        "# df['ARR_DEL15'].replace(encode_map, inplace=True)"
      ],
      "metadata": {
        "id": "b_vBzXqGh3Hx"
      },
      "execution_count": null,
      "outputs": []
    },
    {
      "cell_type": "code",
      "source": [
        "X = df.drop(['ARR_DEL15','OP_UNIQUE_CARRIER','CANCELLED','DIVERTED','TAIL_NUM','OP_CARRIER_FL_NUM'\n",
        "           ,'DEST_AIRPORT_SEQ_ID', 'ORIGIN', 'OP_CARRIER',\n",
        "          'DEST','ORIGIN_AIRPORT_SEQ_ID'], axis=1)\n",
        "y = df['ARR_DEL15']"
      ],
      "metadata": {
        "id": "fVwEC25ihtFw"
      },
      "execution_count": null,
      "outputs": []
    },
    {
      "cell_type": "code",
      "source": [
        "X_train, X_test, y_train, y_test = train_test_split(X, y, test_size=0.33, random_state=69)"
      ],
      "metadata": {
        "id": "Lc78oKIwiykz"
      },
      "execution_count": null,
      "outputs": []
    },
    {
      "cell_type": "code",
      "source": [
        "y_train = y_train.to_frame(name='ARR_DEL15')\n",
        "y_test = y_test.to_frame(name='ARR_DEL15')"
      ],
      "metadata": {
        "id": "D-b60jWQosg_"
      },
      "execution_count": null,
      "outputs": []
    },
    {
      "cell_type": "code",
      "source": [
        "#mean=1, var=0로 스케일링\n",
        "#그렇게 학습된 scaler의 parameters로 testdata에 transform만 적용\n",
        "scaler = StandardScaler()\n",
        "X_train = scaler.fit_transform(X_train)\n",
        "X_test = scaler.transform(X_test)"
      ],
      "metadata": {
        "id": "gheJAjOCi860"
      },
      "execution_count": null,
      "outputs": []
    },
    {
      "cell_type": "code",
      "source": [
        "EPOCHS = 50\n",
        "BATCH_SIZE = 64\n",
        "LEARNING_RATE = 0.001"
      ],
      "metadata": {
        "id": "pEKdTGUki85B"
      },
      "execution_count": null,
      "outputs": []
    },
    {
      "cell_type": "code",
      "source": [
        "## train data\n",
        "class TrainData(Dataset):\n",
        "\n",
        "    def __init__(self, X_data, y_data):\n",
        "        self.X_data = X_data\n",
        "        self.y_data = y_data\n",
        "\n",
        "    def __getitem__(self, index):\n",
        "        return self.X_data[index], self.y_data[index]\n",
        "\n",
        "    def __len__ (self):\n",
        "        return len(self.X_data)\n",
        "\n",
        "\n",
        "train_data = TrainData(torch.FloatTensor(X_train),\n",
        "                       torch.FloatTensor(y_train.values))\n",
        "## test data\n",
        "class TestData(Dataset):\n",
        "\n",
        "    def __init__(self, X_data):\n",
        "        self.X_data = X_data\n",
        "\n",
        "    def __getitem__(self, index):\n",
        "        return self.X_data[index]\n",
        "\n",
        "    def __len__ (self):\n",
        "        return len(self.X_data)\n",
        "\n",
        "\n",
        "test_data = TestData(torch.FloatTensor(X_test))"
      ],
      "metadata": {
        "id": "2DusvHhji83d"
      },
      "execution_count": null,
      "outputs": []
    },
    {
      "cell_type": "code",
      "source": [
        "#dataloader = DataLoader(dataset, # 위에서 생성한 데이터 셋,batch_size = 32, # 1회 당 32개의 데이터씩 분할,shuffle = True # 데이터들의 순서는 섞어서 분할)\n",
        "train_loader = DataLoader(dataset=train_data, batch_size=BATCH_SIZE, shuffle=True)\n",
        "test_loader = DataLoader(dataset=test_data, batch_size=1)"
      ],
      "metadata": {
        "id": "kygEx18Bi81d"
      },
      "execution_count": null,
      "outputs": []
    },
    {
      "cell_type": "code",
      "source": [
        "class BinaryClassification(nn.Module):\n",
        "    def __init__(self):\n",
        "        super(BinaryClassification, self).__init__()\n",
        "        # Number of input features is 10.\n",
        "        self.layer_1 = nn.Linear(10, 64)\n",
        "        self.layer_2 = nn.Linear(64, 64)\n",
        "        self.layer_out = nn.Linear(64, 1)\n",
        "        #64x10 and 12x64\n",
        "        self.relu = nn.ReLU()\n",
        "        self.dropout = nn.Dropout(p=0.1)\n",
        "        self.batchnorm1 = nn.BatchNorm1d(64)\n",
        "        self.batchnorm2 = nn.BatchNorm1d(64) #use the nn.BCEWithLogitsLoss() loss function which automatically applies the the Sigmoid activation!\n",
        "\n",
        "    def forward(self, inputs):\n",
        "        x = self.relu(self.layer_1(inputs))\n",
        "        x = self.batchnorm1(x)\n",
        "        x = self.relu(self.layer_2(x))\n",
        "        x = self.batchnorm2(x)\n",
        "        x = self.dropout(x)\n",
        "        x = self.layer_out(x)\n",
        "\n",
        "        return x"
      ],
      "metadata": {
        "id": "tLtr4SKAo6Wl"
      },
      "execution_count": null,
      "outputs": []
    },
    {
      "cell_type": "code",
      "source": [
        "device = torch.device(\"cuda:0\" if torch.cuda.is_available() else \"cpu\")\n",
        "print(device)"
      ],
      "metadata": {
        "colab": {
          "base_uri": "https://localhost:8080/"
        },
        "id": "OypVnUCjo6U4",
        "outputId": "ac159bf2-19e3-47cc-c3eb-df4cc4de7988"
      },
      "execution_count": null,
      "outputs": [
        {
          "output_type": "stream",
          "name": "stdout",
          "text": [
            "cuda:0\n"
          ]
        }
      ]
    },
    {
      "cell_type": "code",
      "source": [
        "model = BinaryClassification()\n",
        "model.to(device)\n",
        "print(model)"
      ],
      "metadata": {
        "colab": {
          "base_uri": "https://localhost:8080/"
        },
        "id": "yZdJsOH8o6TP",
        "outputId": "a5c89e1c-e85e-40fe-e8bd-51494a39760f"
      },
      "execution_count": null,
      "outputs": [
        {
          "output_type": "stream",
          "name": "stdout",
          "text": [
            "BinaryClassification(\n",
            "  (layer_1): Linear(in_features=10, out_features=64, bias=True)\n",
            "  (layer_2): Linear(in_features=64, out_features=64, bias=True)\n",
            "  (layer_out): Linear(in_features=64, out_features=1, bias=True)\n",
            "  (relu): ReLU()\n",
            "  (dropout): Dropout(p=0.1, inplace=False)\n",
            "  (batchnorm1): BatchNorm1d(64, eps=1e-05, momentum=0.1, affine=True, track_running_stats=True)\n",
            "  (batchnorm2): BatchNorm1d(64, eps=1e-05, momentum=0.1, affine=True, track_running_stats=True)\n",
            ")\n"
          ]
        }
      ]
    },
    {
      "cell_type": "code",
      "source": [
        "criterion = nn.BCEWithLogitsLoss()\n",
        "optimizer = optim.Adam(model.parameters(), lr=LEARNING_RATE)"
      ],
      "metadata": {
        "id": "S0FbJHONpj9z"
      },
      "execution_count": null,
      "outputs": []
    },
    {
      "cell_type": "code",
      "source": [
        "def binary_acc(y_pred, y_test):\n",
        "    y_pred_tag = torch.round(torch.sigmoid(y_pred))\n",
        "    correct_results_sum = (y_pred_tag == y_test).sum().float()\n",
        "    acc = correct_results_sum/y_test.shape[0]\n",
        "    acc = torch.round(acc * 100)\n",
        "\n",
        "    return acc"
      ],
      "metadata": {
        "id": "-OaE8AHWo6RW"
      },
      "execution_count": null,
      "outputs": []
    },
    {
      "cell_type": "code",
      "source": [],
      "metadata": {
        "id": "kXxHbVonqSTC"
      },
      "execution_count": null,
      "outputs": []
    },
    {
      "cell_type": "code",
      "source": [
        "model.train()\n",
        "for e in range(1, EPOCHS+1):\n",
        "    epoch_loss = 0\n",
        "    epoch_acc = 0\n",
        "    for X_batch, y_batch in train_loader:\n",
        "        X_batch, y_batch = X_batch.to(device), y_batch.to(device)\n",
        "        optimizer.zero_grad()\n",
        "\n",
        "        y_pred = model(X_batch)\n",
        "\n",
        "        loss = criterion(y_pred, y_batch)\n",
        "        acc = binary_acc(y_pred, y_batch)\n",
        "\n",
        "        loss.backward()\n",
        "        optimizer.step()\n",
        "\n",
        "        epoch_loss += loss.item()\n",
        "        epoch_acc += acc.item()\n",
        "\n",
        "\n",
        "    print(f'Epoch {e+0:03}: | Loss: {epoch_loss/len(train_loader):.5f} | Acc: {epoch_acc/len(train_loader):.3f}')"
      ],
      "metadata": {
        "colab": {
          "base_uri": "https://localhost:8080/"
        },
        "id": "Hh9XnmRko6OU",
        "outputId": "6f819855-b52e-48ab-f2a8-4b103d3dda43"
      },
      "execution_count": null,
      "outputs": [
        {
          "output_type": "stream",
          "name": "stdout",
          "text": [
            "Epoch 001: | Loss: 0.23537 | Acc: 92.376\n",
            "Epoch 002: | Loss: 0.22520 | Acc: 92.493\n",
            "Epoch 003: | Loss: 0.22341 | Acc: 92.508\n",
            "Epoch 004: | Loss: 0.22196 | Acc: 92.531\n",
            "Epoch 005: | Loss: 0.22137 | Acc: 92.537\n",
            "Epoch 006: | Loss: 0.22073 | Acc: 92.537\n",
            "Epoch 007: | Loss: 0.22017 | Acc: 92.551\n",
            "Epoch 008: | Loss: 0.21968 | Acc: 92.557\n",
            "Epoch 009: | Loss: 0.21947 | Acc: 92.553\n",
            "Epoch 010: | Loss: 0.21898 | Acc: 92.566\n",
            "Epoch 011: | Loss: 0.21871 | Acc: 92.574\n",
            "Epoch 012: | Loss: 0.21826 | Acc: 92.579\n",
            "Epoch 013: | Loss: 0.21829 | Acc: 92.583\n",
            "Epoch 014: | Loss: 0.21780 | Acc: 92.590\n",
            "Epoch 015: | Loss: 0.21728 | Acc: 92.585\n",
            "Epoch 016: | Loss: 0.21681 | Acc: 92.600\n",
            "Epoch 017: | Loss: 0.21640 | Acc: 92.596\n",
            "Epoch 018: | Loss: 0.21574 | Acc: 92.599\n",
            "Epoch 019: | Loss: 0.21522 | Acc: 92.619\n",
            "Epoch 020: | Loss: 0.21472 | Acc: 92.605\n",
            "Epoch 021: | Loss: 0.21426 | Acc: 92.628\n",
            "Epoch 022: | Loss: 0.21406 | Acc: 92.631\n",
            "Epoch 023: | Loss: 0.21365 | Acc: 92.637\n",
            "Epoch 024: | Loss: 0.21378 | Acc: 92.629\n",
            "Epoch 025: | Loss: 0.21341 | Acc: 92.641\n",
            "Epoch 026: | Loss: 0.21331 | Acc: 92.633\n",
            "Epoch 027: | Loss: 0.21297 | Acc: 92.634\n",
            "Epoch 028: | Loss: 0.21290 | Acc: 92.640\n",
            "Epoch 029: | Loss: 0.21274 | Acc: 92.642\n",
            "Epoch 030: | Loss: 0.21240 | Acc: 92.653\n",
            "Epoch 031: | Loss: 0.21228 | Acc: 92.656\n",
            "Epoch 032: | Loss: 0.21167 | Acc: 92.641\n",
            "Epoch 033: | Loss: 0.21147 | Acc: 92.659\n",
            "Epoch 034: | Loss: 0.21163 | Acc: 92.657\n",
            "Epoch 035: | Loss: 0.21138 | Acc: 92.676\n",
            "Epoch 036: | Loss: 0.21105 | Acc: 92.668\n",
            "Epoch 037: | Loss: 0.21121 | Acc: 92.661\n",
            "Epoch 038: | Loss: 0.21108 | Acc: 92.668\n",
            "Epoch 039: | Loss: 0.21045 | Acc: 92.666\n",
            "Epoch 040: | Loss: 0.21053 | Acc: 92.661\n",
            "Epoch 041: | Loss: 0.21031 | Acc: 92.676\n",
            "Epoch 042: | Loss: 0.21027 | Acc: 92.670\n",
            "Epoch 043: | Loss: 0.21027 | Acc: 92.647\n",
            "Epoch 044: | Loss: 0.20973 | Acc: 92.673\n",
            "Epoch 045: | Loss: 0.20988 | Acc: 92.675\n",
            "Epoch 046: | Loss: 0.20941 | Acc: 92.681\n",
            "Epoch 047: | Loss: 0.20953 | Acc: 92.685\n",
            "Epoch 048: | Loss: 0.20912 | Acc: 92.688\n",
            "Epoch 049: | Loss: 0.20940 | Acc: 92.688\n",
            "Epoch 050: | Loss: 0.20917 | Acc: 92.688\n"
          ]
        }
      ]
    },
    {
      "cell_type": "code",
      "source": [
        "y_pred_list = []\n",
        "model.eval()\n",
        "with torch.no_grad():\n",
        "    for X_batch in test_loader:\n",
        "        X_batch = X_batch.to(device)\n",
        "        y_test_pred = model(X_batch)\n",
        "        y_test_pred = torch.sigmoid(y_test_pred)\n",
        "        y_pred_tag = torch.round(y_test_pred)\n",
        "        y_pred_list.append(y_pred_tag.cpu().numpy())\n",
        "\n",
        "y_pred_list = [a.squeeze().tolist() for a in y_pred_list]"
      ],
      "metadata": {
        "id": "g8kN9Bz6p5fz"
      },
      "execution_count": null,
      "outputs": []
    },
    {
      "cell_type": "code",
      "source": [
        "confusion_matrix(y_test, y_pred_list)"
      ],
      "metadata": {
        "colab": {
          "base_uri": "https://localhost:8080/"
        },
        "id": "n10E5MdCp5dg",
        "outputId": "a16fe07e-7bc8-43a7-d76c-21ac4e466f5e"
      },
      "execution_count": null,
      "outputs": [
        {
          "output_type": "execute_result",
          "data": {
            "text/plain": [
              "array([[310698,  11763],\n",
              "       [ 16001,  46065]])"
            ]
          },
          "metadata": {},
          "execution_count": 33
        }
      ]
    },
    {
      "cell_type": "code",
      "source": [
        "print(classification_report(y_test, y_pred_list))"
      ],
      "metadata": {
        "colab": {
          "base_uri": "https://localhost:8080/"
        },
        "id": "Tdj6f9_Gp-tj",
        "outputId": "845839ff-e44a-40ac-ef4e-c224b4c73273"
      },
      "execution_count": null,
      "outputs": [
        {
          "output_type": "stream",
          "name": "stdout",
          "text": [
            "              precision    recall  f1-score   support\n",
            "\n",
            "         0.0       0.95      0.96      0.96    322461\n",
            "         1.0       0.80      0.74      0.77     62066\n",
            "\n",
            "    accuracy                           0.93    384527\n",
            "   macro avg       0.87      0.85      0.86    384527\n",
            "weighted avg       0.93      0.93      0.93    384527\n",
            "\n"
          ]
        }
      ]
    },
    {
      "cell_type": "code",
      "source": [],
      "metadata": {
        "id": "mm5S_xzwp-rs"
      },
      "execution_count": null,
      "outputs": []
    },
    {
      "cell_type": "code",
      "source": [],
      "metadata": {
        "id": "W-53bqwip-pp"
      },
      "execution_count": null,
      "outputs": []
    }
  ]
}