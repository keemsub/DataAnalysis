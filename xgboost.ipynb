{
 "cells": [
  {
   "cell_type": "code",
   "execution_count": 3,
   "metadata": {},
   "outputs": [
    {
     "name": "stdout",
     "output_type": "stream",
     "text": [
      "Collecting xgboost\n",
      "  Downloading xgboost-2.1.0-py3-none-macosx_10_15_x86_64.macosx_11_0_x86_64.macosx_12_0_x86_64.whl.metadata (2.1 kB)\n",
      "Requirement already satisfied: numpy in /Library/Frameworks/Python.framework/Versions/3.11/lib/python3.11/site-packages (from xgboost) (1.26.3)\n",
      "Requirement already satisfied: scipy in /Library/Frameworks/Python.framework/Versions/3.11/lib/python3.11/site-packages (from xgboost) (1.12.0)\n",
      "Downloading xgboost-2.1.0-py3-none-macosx_10_15_x86_64.macosx_11_0_x86_64.macosx_12_0_x86_64.whl (2.1 MB)\n",
      "\u001b[2K   \u001b[90m━━━━━━━━━━━━━━━━━━━━━━━━━━━━━━━━━━━━━━━━\u001b[0m \u001b[32m2.1/2.1 MB\u001b[0m \u001b[31m1.7 MB/s\u001b[0m eta \u001b[36m0:00:00\u001b[0m00:01\u001b[0m00:01\u001b[0m0m\n",
      "\u001b[?25hInstalling collected packages: xgboost\n",
      "Successfully installed xgboost-2.1.0\n",
      "\n",
      "\u001b[1m[\u001b[0m\u001b[34;49mnotice\u001b[0m\u001b[1;39;49m]\u001b[0m\u001b[39;49m A new release of pip is available: \u001b[0m\u001b[31;49m24.0\u001b[0m\u001b[39;49m -> \u001b[0m\u001b[32;49m24.1.2\u001b[0m\n",
      "\u001b[1m[\u001b[0m\u001b[34;49mnotice\u001b[0m\u001b[1;39;49m]\u001b[0m\u001b[39;49m To update, run: \u001b[0m\u001b[32;49m/Library/Frameworks/Python.framework/Versions/3.11/bin/python3.11 -m pip install --upgrade pip\u001b[0m\n"
     ]
    }
   ],
   "source": [
    "# features = []  # 과거 48주간의 가격\n",
    "# for i in range(48):\n",
    "#     df_train[f\"price-{i+1}week\"] = df_train[\"철근 고장력 HD10mm 현물KRW/ton\"].shift(\n",
    "#         i + 1\n",
    "#     )\n",
    "#     features.append(f\"price-{i+1}week\")\n",
    "\n",
    "# targets = []  # 미래 48주간의 가격\n",
    "# for i in range(48):\n",
    "#     df_train[f\"price+{i+1}week\"] = df_train[\"철근 고장력 HD10mm 현물KRW/ton\"].shift(\n",
    "#         -(i + 1)\n",
    "#     )\n",
    "#     targets.append(f\"price+{i+1}week\")\n",
    "\n",
    "# train = df_train.dropna(axis=0)\n",
    "\n",
    "# train_x = train[features]\n",
    "# train_y = train[targets]\n",
    "# # model.fit(train[features], train[targets])\n",
    "!pip3 install xgboost"
   ]
  },
  {
   "cell_type": "code",
   "execution_count": null,
   "metadata": {},
   "outputs": [],
   "source": [
    "import pandas as pd\n",
    "import numpy as np\n",
    "import matplotlib.pyplot as plt\n",
    "from sklearn.model_selection import train_test_split\n",
    "from sklearn.preprocessing import StandardScaler\n",
    "from xgboost import XGBRegressor\n",
    "import warnings\n",
    "warnings.filterwarnings('ignore')"
   ]
  },
  {
   "cell_type": "code",
   "execution_count": null,
   "metadata": {},
   "outputs": [],
   "source": [
    "TRAIN_FILE = \"/mnt/elice/dataset/train.csv\"\n",
    "TEST_FILE = \"/mnt/elice/dataset/test.csv\"\n",
    "\n",
    "data = pd.read_csv(TRAIN_FILE)\n",
    "df_test = pd.read_csv(TEST_FILE)"
   ]
  },
  {
   "cell_type": "code",
   "execution_count": null,
   "metadata": {},
   "outputs": [],
   "source": [
    "data['날짜'] = pd.to_datetime(data['날짜'], format=\"%Y%m%d\")\n",
    "data = data.set_index('날짜')\n",
    "\n",
    "# 로그 변환 및 차분\n",
    "data['price_log'] = np.log(data['철근 고장력 HD10mm 현물KRW/ton'])\n",
    "data['price_log_diff'] = data['price_log'].diff().dropna()\n",
    "\n",
    "# 시계열 특성 생성\n",
    "def create_features(df, label=None):\n",
    "    df['year'] = df.index.year\n",
    "    df['month'] = df.index.month\n",
    "    df['week'] = df.index.isocalendar().week\n",
    "    df['lag1'] = df['price_log_diff'].shift(1)\n",
    "    df['lag4'] = df['price_log_diff'].shift(4)\n",
    "    df['rolling_mean_4'] = df['price_log_diff'].rolling(window=4).mean()\n",
    "    df['rolling_std_4'] = df['price_log_diff'].rolling(window=4).std()\n",
    "    \n",
    "    if label:\n",
    "        df[label] = df[label]\n",
    "    \n",
    "    return df\n",
    "\n",
    "data = create_features(data, label='price_log_diff')\n",
    "data = data.dropna()"
   ]
  },
  {
   "cell_type": "code",
   "execution_count": null,
   "metadata": {},
   "outputs": [],
   "source": [
    "# 훈련 및 테스트 데이터 분할\n",
    "X = data[['year', 'month', 'week', 'lag1', 'lag4', 'rolling_mean_4', 'rolling_std_4']]\n",
    "y = data['price_log_diff']\n",
    "\n",
    "X_train, X_test, y_train, y_test = train_test_split(X, y, test_size=0.2, shuffle=False)\n",
    "\n",
    "# 스케일링\n",
    "scaler = StandardScaler()\n",
    "X_train_scaled = scaler.fit_transform(X_train)\n",
    "X_test_scaled = scaler.transform(X_test)\n",
    "\n",
    "# XGBoost 모델 학습\n",
    "model = XGBRegressor(objective='reg:squarederror', n_estimators=250, learning_rate=0.01)\n",
    "model.fit(X_train_scaled, y_train)\n",
    "\n",
    "# 예측\n",
    "y_pred = model.predict(X_test_scaled)"
   ]
  },
  {
   "cell_type": "code",
   "execution_count": null,
   "metadata": {},
   "outputs": [],
   "source": [
    "# 결과 시각화\n",
    "plt.figure(figsize=(10, 6))\n",
    "plt.plot(y_test.index, y_test, label='Actual')\n",
    "plt.plot(y_test.index, y_pred, label='Predicted')\n",
    "plt.title('Rebar Prices Forecast')\n",
    "plt.xlabel('Date')\n",
    "plt.ylabel('Log Differenced Price')\n",
    "plt.legend()\n",
    "plt.show()"
   ]
  },
  {
   "cell_type": "code",
   "execution_count": null,
   "metadata": {},
   "outputs": [],
   "source": [
    "# 로그 역변환\n",
    "y_test_cumsum = y_test.cumsum()\n",
    "y_pred_cumsum = pd.Series(y_pred, index=y_test.index).cumsum()\n",
    "\n",
    "y_test_reversed = np.exp(y_test_cumsum + np.log(data['철근 고장력 HD10mm 현물KRW/ton'].iloc[0]))\n",
    "y_pred_reversed = np.exp(y_pred_cumsum + np.log(data['철근 고장력 HD10mm 현물KRW/ton'].iloc[0]))\n",
    "\n",
    "# 원래 가격으로 변환한 예측 결과 시각화\n",
    "plt.figure(figsize=(10, 6))\n",
    "plt.plot(y_test_reversed.index, y_test_reversed, label='Actual')\n",
    "plt.plot(y_pred_reversed.index, y_pred_reversed, label='Predicted')\n",
    "plt.title('Rebar Prices Forecast (Original Scale)')\n",
    "plt.xlabel('Date')\n",
    "plt.ylabel('철근 고장력 HD10mm 현물KRW/ton')\n",
    "plt.legend()\n",
    "plt.show()"
   ]
  },
  {
   "cell_type": "code",
   "execution_count": null,
   "metadata": {},
   "outputs": [],
   "source": [
    "# 미래 48주 예측 (1주 단위)\n",
    "last_index = data.index[-1]\n",
    "# future_dates = pd.date_range(start=last_index + pd.Timedelta(weeks=1), periods=48, freq='W-MON')\n",
    "future_dates = pd.date_range(start='2022-11-21', periods=48, freq='W-MON')\n",
    "\n",
    "future_data = pd.DataFrame(index=future_dates)\n",
    "\n",
    "# 마지막 데이터에서 초기값 설정\n",
    "last_values = data.iloc[-1]\n",
    "for col in ['lag1', 'lag4', 'rolling_mean_4', 'rolling_std_4']:\n",
    "    future_data[col] = last_values[col]\n",
    "\n",
    "# 미래 데이터 특징 생성\n",
    "future_data['year'] = future_data.index.year\n",
    "future_data['month'] = future_data.index.month\n",
    "future_data['week'] = future_data.index.isocalendar().week\n",
    "\n",
    "# 순차적으로 미래 데이터 예측\n",
    "future_predictions = []\n",
    "\n",
    "for i in range(48):\n",
    "    future_row = future_data.iloc[i]\n",
    "    future_features = scaler.transform(future_row[['year', 'month', 'week', 'lag1', 'lag4', 'rolling_mean_4', 'rolling_std_4']].values.reshape(1, -1))\n",
    "    prediction = model.predict(future_features)\n",
    "    future_predictions.append(prediction[0])\n",
    "    \n",
    "    # 다음 예측을 위해 미래 데이터 갱신\n",
    "    if i + 1 < 48:\n",
    "        future_data.at[future_dates[i + 1], 'lag1'] = prediction[0]\n",
    "        if i + 4 < 48:\n",
    "            future_data.at[future_dates[i + 4], 'lag4'] = prediction[0]\n",
    "        \n",
    "        rolling_window = future_predictions[-4:] if len(future_predictions) >= 4 else [last_values['price_log_diff']] * (4 - len(future_predictions)) + future_predictions\n",
    "        future_data.at[future_dates[i + 1], 'rolling_mean_4'] = np.mean(rolling_window)\n",
    "        future_data.at[future_dates[i + 1], 'rolling_std_4'] = np.std(rolling_window)\n",
    "\n",
    "# 로그 역변환\n",
    "future_pred_cumsum = pd.Series(future_predictions, index=future_dates).cumsum()\n",
    "last_log_price = data['price_log'].iloc[-1]\n",
    "\n",
    "future_pred_reversed = np.exp(future_pred_cumsum + last_log_price)\n",
    "\n",
    "# 미래 예측 결과 시각화\n",
    "plt.figure(figsize=(10, 6))\n",
    "plt.plot(data.index, np.exp(data['price_log']), label='Historical Prices')\n",
    "plt.plot(future_pred_reversed.index, future_pred_reversed, label='Future Predicted Prices', color='red')\n",
    "plt.title('Future Rebar Prices Forecast')\n",
    "plt.xlabel('Date')\n",
    "plt.ylabel('Price')\n",
    "plt.legend()\n",
    "plt.show()"
   ]
  },
  {
   "cell_type": "code",
   "execution_count": null,
   "metadata": {},
   "outputs": [],
   "source": [
    "# 미래 예측 결과 출력\n",
    "print(future_pred_reversed.values)\n",
    "df_test['철근 고장력 HD10mm 현물KRW/ton'] = future_pred_reversed.values\n",
    "df_test.to_csv(\"sample_submission.csv\", index=False)"
   ]
  }
 ],
 "metadata": {
  "kernelspec": {
   "display_name": "Python 3",
   "language": "python",
   "name": "python3"
  },
  "language_info": {
   "codemirror_mode": {
    "name": "ipython",
    "version": 3
   },
   "file_extension": ".py",
   "mimetype": "text/x-python",
   "name": "python",
   "nbconvert_exporter": "python",
   "pygments_lexer": "ipython3",
   "version": "3.11.7"
  }
 },
 "nbformat": 4,
 "nbformat_minor": 2
}
